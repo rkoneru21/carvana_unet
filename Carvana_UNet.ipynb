{
  "metadata": {
    "kernelspec": {
      "display_name": "Python 3",
      "name": "python3"
    },
    "language_info": {
      "name": "python",
      "version": "3.10.12",
      "mimetype": "text/x-python",
      "codemirror_mode": {
        "name": "ipython",
        "version": 3
      },
      "pygments_lexer": "ipython3",
      "nbconvert_exporter": "python",
      "file_extension": ".py"
    },
    "kaggle": {
      "accelerator": "gpu",
      "dataSources": [
        {
          "sourceId": 6927,
          "databundleVersionId": 45059,
          "sourceType": "competition"
        }
      ],
      "dockerImageVersionId": 30627,
      "isInternetEnabled": true,
      "language": "python",
      "sourceType": "notebook",
      "isGpuEnabled": true
    },
    "colab": {
      "provenance": [],
      "gpuType": "T4"
    },
    "accelerator": "GPU"
  },
  "nbformat_minor": 0,
  "nbformat": 4,
  "cells": [
    {
      "cell_type": "code",
      "source": [
        "!pip install kaggle"
      ],
      "metadata": {
        "colab": {
          "base_uri": "https://localhost:8080/"
        },
        "id": "KEm0WBpw0L-v",
        "outputId": "88aba6b8-a7ce-4061-a122-905cf32646f0"
      },
      "execution_count": null,
      "outputs": [
        {
          "output_type": "stream",
          "name": "stdout",
          "text": [
            "Requirement already satisfied: kaggle in /usr/local/lib/python3.11/dist-packages (1.7.4.2)\n",
            "Requirement already satisfied: bleach in /usr/local/lib/python3.11/dist-packages (from kaggle) (6.2.0)\n",
            "Requirement already satisfied: certifi>=14.05.14 in /usr/local/lib/python3.11/dist-packages (from kaggle) (2025.1.31)\n",
            "Requirement already satisfied: charset-normalizer in /usr/local/lib/python3.11/dist-packages (from kaggle) (3.4.1)\n",
            "Requirement already satisfied: idna in /usr/local/lib/python3.11/dist-packages (from kaggle) (3.10)\n",
            "Requirement already satisfied: protobuf in /usr/local/lib/python3.11/dist-packages (from kaggle) (5.29.4)\n",
            "Requirement already satisfied: python-dateutil>=2.5.3 in /usr/local/lib/python3.11/dist-packages (from kaggle) (2.8.2)\n",
            "Requirement already satisfied: python-slugify in /usr/local/lib/python3.11/dist-packages (from kaggle) (8.0.4)\n",
            "Requirement already satisfied: requests in /usr/local/lib/python3.11/dist-packages (from kaggle) (2.32.3)\n",
            "Requirement already satisfied: setuptools>=21.0.0 in /usr/local/lib/python3.11/dist-packages (from kaggle) (75.2.0)\n",
            "Requirement already satisfied: six>=1.10 in /usr/local/lib/python3.11/dist-packages (from kaggle) (1.17.0)\n",
            "Requirement already satisfied: text-unidecode in /usr/local/lib/python3.11/dist-packages (from kaggle) (1.3)\n",
            "Requirement already satisfied: tqdm in /usr/local/lib/python3.11/dist-packages (from kaggle) (4.67.1)\n",
            "Requirement already satisfied: urllib3>=1.15.1 in /usr/local/lib/python3.11/dist-packages (from kaggle) (2.3.0)\n",
            "Requirement already satisfied: webencodings in /usr/local/lib/python3.11/dist-packages (from kaggle) (0.5.1)\n"
          ]
        }
      ]
    },
    {
      "cell_type": "code",
      "source": [
        "from google.colab import drive\n",
        "drive.mount('/content/drive')"
      ],
      "metadata": {
        "colab": {
          "base_uri": "https://localhost:8080/"
        },
        "id": "hkYCOtSt17A2",
        "outputId": "b3d067d0-64cb-46df-fa0e-443a476e1fd0"
      },
      "execution_count": 1,
      "outputs": [
        {
          "output_type": "stream",
          "name": "stdout",
          "text": [
            "Mounted at /content/drive\n"
          ]
        }
      ]
    },
    {
      "cell_type": "code",
      "source": [
        "import os\n",
        "print(os.listdir(\"/content/drive/MyDrive/Kaggle/carvana/carvana-image-masking-challenge\"))\n",
        "\n",
        "import zipfile\n",
        "import shutil\n",
        "\n",
        "DATASET_DIR = '/content/drive/MyDrive/Kaggle/carvana/carvana-image-masking-challenge/'\n",
        "WORKING_DIR = '/content/drive/MyDrive/Kaggle/carvana/Working/'"
      ],
      "metadata": {
        "execution": {
          "iopub.status.busy": "2023-12-16T21:35:25.612857Z",
          "iopub.execute_input": "2023-12-16T21:35:25.613492Z",
          "iopub.status.idle": "2023-12-16T21:35:25.619977Z",
          "shell.execute_reply.started": "2023-12-16T21:35:25.613438Z",
          "shell.execute_reply": "2023-12-16T21:35:25.619064Z"
        },
        "trusted": true,
        "id": "GAtDISGc0Io6",
        "colab": {
          "base_uri": "https://localhost:8080/"
        },
        "outputId": "33e46e05-f0f7-4d25-a6f5-c55995edbbd6"
      },
      "execution_count": null,
      "outputs": [
        {
          "output_type": "stream",
          "name": "stdout",
          "text": [
            "['metadata.csv.zip', '29bb3ece3180_11.jpg', 'sample_submission.csv.zip', 'test.zip', 'test_hq.zip', 'train.zip', 'train_hq.zip', 'train_masks.csv.zip', 'train_masks.zip']\n"
          ]
        }
      ]
    },
    {
      "cell_type": "code",
      "source": [
        "if len(os.listdir(WORKING_DIR)) <= 1:\n",
        "\n",
        "    with zipfile.ZipFile(DATASET_DIR + 'train.zip', 'r') as zip_file:\n",
        "        zip_file.extractall(WORKING_DIR)\n",
        "\n",
        "    with zipfile.ZipFile(DATASET_DIR + 'train_masks.zip', 'r') as zip_file:\n",
        "        zip_file.extractall(WORKING_DIR)\n",
        "\n",
        "    print(\n",
        "        len(os.listdir(WORKING_DIR + 'train')),\n",
        "        len(os.listdir(WORKING_DIR + 'train_masks'))\n",
        "    )\n",
        "\n",
        "    train_dir = WORKING_DIR + 'train/'\n",
        "    val_dir = WORKING_DIR + 'val/'\n",
        "    os.mkdir(val_dir)\n",
        "    for file in sorted(os.listdir(train_dir))[4600:]:\n",
        "      shutil.move(train_dir + file, val_dir)\n",
        "\n",
        "    masks_dir = WORKING_DIR + 'train_masks/'\n",
        "    val_masks_dir = WORKING_DIR + 'val_masks/'\n",
        "    os.mkdir(val_masks_dir)\n",
        "    for file in sorted(os.listdir(masks_dir))[4600:]:\n",
        "      shutil.move(masks_dir + file, val_masks_dir)\n",
        "\n",
        "    os.mkdir(WORKING_DIR + 'saved_images')"
      ],
      "metadata": {
        "execution": {
          "iopub.status.busy": "2023-12-16T21:35:25.624239Z",
          "iopub.execute_input": "2023-12-16T21:35:25.624512Z",
          "iopub.status.idle": "2023-12-16T21:35:25.63439Z",
          "shell.execute_reply.started": "2023-12-16T21:35:25.62448Z",
          "shell.execute_reply": "2023-12-16T21:35:25.633612Z"
        },
        "trusted": true,
        "id": "lgpOpy0Q0Io7"
      },
      "execution_count": null,
      "outputs": []
    },
    {
      "cell_type": "code",
      "source": [
        "sorted(os.listdir(WORKING_DIR + 'train'))[:10]"
      ],
      "metadata": {
        "execution": {
          "iopub.status.busy": "2023-12-16T21:35:25.638652Z",
          "iopub.execute_input": "2023-12-16T21:35:25.638946Z",
          "iopub.status.idle": "2023-12-16T21:35:25.651299Z",
          "shell.execute_reply.started": "2023-12-16T21:35:25.638897Z",
          "shell.execute_reply": "2023-12-16T21:35:25.650495Z"
        },
        "trusted": true,
        "id": "jj-8eS0G0Io7",
        "colab": {
          "base_uri": "https://localhost:8080/"
        },
        "outputId": "6b69122d-90eb-4a26-f407-8c2f505e14af"
      },
      "execution_count": null,
      "outputs": [
        {
          "output_type": "execute_result",
          "data": {
            "text/plain": [
              "['00087a6bd4dc_01.jpg',\n",
              " '00087a6bd4dc_02.jpg',\n",
              " '00087a6bd4dc_03.jpg',\n",
              " '00087a6bd4dc_04.jpg',\n",
              " '00087a6bd4dc_05.jpg',\n",
              " '00087a6bd4dc_06.jpg',\n",
              " '00087a6bd4dc_07.jpg',\n",
              " '00087a6bd4dc_08.jpg',\n",
              " '00087a6bd4dc_09.jpg',\n",
              " '00087a6bd4dc_10.jpg']"
            ]
          },
          "metadata": {},
          "execution_count": 6
        }
      ]
    },
    {
      "cell_type": "code",
      "source": [
        "sorted(os.listdir(WORKING_DIR + 'train_masks'))[:10]"
      ],
      "metadata": {
        "execution": {
          "iopub.status.busy": "2023-12-16T21:35:25.653042Z",
          "iopub.execute_input": "2023-12-16T21:35:25.653686Z",
          "iopub.status.idle": "2023-12-16T21:35:25.664873Z",
          "shell.execute_reply.started": "2023-12-16T21:35:25.653653Z",
          "shell.execute_reply": "2023-12-16T21:35:25.66392Z"
        },
        "trusted": true,
        "id": "7kdeKS770Io8",
        "colab": {
          "base_uri": "https://localhost:8080/"
        },
        "outputId": "0edf306d-f0c8-4d9d-c51a-8109bdc2dfce"
      },
      "execution_count": null,
      "outputs": [
        {
          "output_type": "execute_result",
          "data": {
            "text/plain": [
              "['00087a6bd4dc_01_mask.gif',\n",
              " '00087a6bd4dc_02_mask.gif',\n",
              " '00087a6bd4dc_03_mask.gif',\n",
              " '00087a6bd4dc_04_mask.gif',\n",
              " '00087a6bd4dc_05_mask.gif',\n",
              " '00087a6bd4dc_06_mask.gif',\n",
              " '00087a6bd4dc_07_mask.gif',\n",
              " '00087a6bd4dc_08_mask.gif',\n",
              " '00087a6bd4dc_09_mask.gif',\n",
              " '00087a6bd4dc_10_mask.gif']"
            ]
          },
          "metadata": {},
          "execution_count": 7
        }
      ]
    },
    {
      "cell_type": "code",
      "source": [
        "import os\n",
        "from PIL import Image\n",
        "from torch.utils.data import Dataset\n",
        "import numpy as np\n",
        "\n",
        "class CarvanaDataset(Dataset):\n",
        "    def __init__(self, image_dir, mask_dir, transform=None):\n",
        "        self.image_dir = image_dir\n",
        "        self.mask_dir = mask_dir\n",
        "        self.transform = transform\n",
        "        self.images = os.listdir(image_dir)\n",
        "\n",
        "    def __len__(self):\n",
        "        return len(self.images)\n",
        "\n",
        "    def __getitem__(self, index):\n",
        "        img_path = os.path.join(self.image_dir, self.images[index])\n",
        "        mask_path = os.path.join(self.mask_dir, self.images[index].replace('.jpg', '_mask.gif'))\n",
        "        image = np.array(Image.open(img_path).convert('RGB'))\n",
        "        mask = np.array(Image.open(mask_path).convert('L'), dtype=np.float32)\n",
        "        mask[mask == 255.0] = 1.0\n",
        "\n",
        "        if self.transform is not None:\n",
        "            augmentations = self.transform(image=image, mask=mask)\n",
        "            image = augmentations['image']\n",
        "            mask = augmentations['mask']\n",
        "\n",
        "        return image, mask"
      ],
      "metadata": {
        "_uuid": "8f2839f25d086af736a60e9eeb907d3b93b6e0e5",
        "_cell_guid": "b1076dfc-b9ad-4769-8c92-a6c4dae69d19",
        "execution": {
          "iopub.status.busy": "2023-12-16T21:35:25.665973Z",
          "iopub.execute_input": "2023-12-16T21:35:25.666302Z",
          "iopub.status.idle": "2023-12-16T21:35:25.675364Z",
          "shell.execute_reply.started": "2023-12-16T21:35:25.66627Z",
          "shell.execute_reply": "2023-12-16T21:35:25.674515Z"
        },
        "trusted": true,
        "id": "Cda5uBZV0Io8"
      },
      "execution_count": null,
      "outputs": []
    },
    {
      "cell_type": "code",
      "source": [
        "import torch\n",
        "import torch.nn as nn\n",
        "import torchvision.transforms.functional as TF\n",
        "\n",
        "class DoubleConv(nn.Module):\n",
        "    def __init__(self, in_channels, out_channels):\n",
        "        super(DoubleConv, self).__init__()\n",
        "        self.conv = nn.Sequential(\n",
        "            nn.Conv2d(in_channels, out_channels, kernel_size=3, stride=1, padding=1, bias=False),\n",
        "            nn.BatchNorm2d(out_channels),\n",
        "            nn.ReLU(inplace=True),\n",
        "            nn.Conv2d(out_channels, out_channels, kernel_size=3, stride=1, padding=1, bias=False),\n",
        "            nn.BatchNorm2d(out_channels),\n",
        "            nn.ReLU(inplace=True),\n",
        "        )\n",
        "\n",
        "    def forward(self, x):\n",
        "        return self.conv(x)\n",
        "\n",
        "class UNET(nn.Module):\n",
        "    def __init__(self, in_channels=3, out_channels=1, features=[64,128,256,512]):\n",
        "        super(UNET, self).__init__()\n",
        "        self.downs = nn.ModuleList()\n",
        "        self.ups = nn.ModuleList()\n",
        "        self.pool = nn.MaxPool2d(kernel_size=2, stride=2)\n",
        "\n",
        "        # Down part of UNET\n",
        "        for feature in features:\n",
        "            self.downs.append(DoubleConv(in_channels, feature))\n",
        "            in_channels = feature\n",
        "\n",
        "        # Up part of UNET\n",
        "        for feature in reversed(features):\n",
        "            self.ups.append(\n",
        "                nn.ConvTranspose2d(\n",
        "                    feature*2, feature, kernel_size=2, stride=2,\n",
        "                )\n",
        "            )\n",
        "            self.ups.append(DoubleConv(feature*2,feature))\n",
        "\n",
        "        self.bottleneck = DoubleConv(features[-1], features[-1]*2)\n",
        "        self.final_conv = nn.Conv2d(features[0], 1, kernel_size=1)\n",
        "\n",
        "    def forward(self, x):\n",
        "        skip_connections = []\n",
        "\n",
        "        for down in self.downs:\n",
        "            x = down(x)\n",
        "            skip_connections.append(x)\n",
        "            x = self.pool(x)\n",
        "\n",
        "        x = self.bottleneck(x)\n",
        "        skip_connections = skip_connections[::-1]\n",
        "\n",
        "        for idx in range(0, len(self.ups), 2):\n",
        "            x = self.ups[idx](x)\n",
        "            skip_connection = skip_connections[idx//2]\n",
        "\n",
        "            if x.shape != skip_connection.shape:\n",
        "                x = TF.resize(x, size=skip_connection.shape[2:], antialias=None)\n",
        "\n",
        "            concat_skip = torch.cat((skip_connection, x), dim=1)\n",
        "            x = self.ups[idx+1](concat_skip)\n",
        "\n",
        "        return self.final_conv(x)\n",
        "\n",
        "\"\"\"\n",
        "def test():\n",
        "    x = torch.randn((3, 1, 161, 161))\n",
        "    model = UNET(1, 1)\n",
        "    preds = model(x)\n",
        "    print(preds.shape)\n",
        "    print(x.shape)\n",
        "\n",
        "    assert preds.shape == x.shape\n",
        "\n",
        "if __name__ == \"__main__\":\n",
        "    test()\n",
        "\n",
        "\"\"\""
      ],
      "metadata": {
        "execution": {
          "iopub.status.busy": "2023-12-16T21:35:25.678883Z",
          "iopub.execute_input": "2023-12-16T21:35:25.67913Z",
          "iopub.status.idle": "2023-12-16T21:35:26.757113Z",
          "shell.execute_reply.started": "2023-12-16T21:35:25.679108Z",
          "shell.execute_reply": "2023-12-16T21:35:26.756162Z"
        },
        "trusted": true,
        "id": "P0ZkbYMK0Io8",
        "colab": {
          "base_uri": "https://localhost:8080/"
        },
        "outputId": "c75a3985-ca41-4916-d6b7-5b851d70a4e2"
      },
      "execution_count": null,
      "outputs": [
        {
          "output_type": "stream",
          "name": "stdout",
          "text": [
            "torch.Size([3, 1, 161, 161])\n",
            "torch.Size([3, 1, 161, 161])\n"
          ]
        }
      ]
    },
    {
      "cell_type": "code",
      "source": [
        "import torch\n",
        "import torchvision\n",
        "# from dataset import CarvanaDataset\n",
        "from torch.utils.data import DataLoader\n",
        "\n",
        "def save_checkpoint(state, filename='my_checkpoint.pth.tar'):\n",
        "    print('=> Saving checkpoint')\n",
        "    torch.save(state, filename)\n",
        "\n",
        "def load_checkpoint(checkpoint, model):\n",
        "    print('=> Loading checkpoint')\n",
        "    model.load_state_dict(checkpoint['state_dict'])\n",
        "\n",
        "def get_loaders(\n",
        "    train_dir,\n",
        "    train_maskdir,\n",
        "    val_dir,\n",
        "    val_maskdir,\n",
        "    batch_size,\n",
        "    train_transform,\n",
        "    val_transform,\n",
        "    num_workers=4,\n",
        "    pin_memory=True,\n",
        "):\n",
        "    train_ds = CarvanaDataset(\n",
        "        image_dir=train_dir,\n",
        "        mask_dir=train_maskdir,\n",
        "        transform=train_transform\n",
        "    )\n",
        "\n",
        "    train_loader = DataLoader(\n",
        "        train_ds,\n",
        "        batch_size=batch_size,\n",
        "        num_workers=num_workers,\n",
        "        pin_memory=pin_memory,\n",
        "        shuffle=True\n",
        "    )\n",
        "\n",
        "    val_ds = CarvanaDataset(\n",
        "        image_dir=val_dir,\n",
        "        mask_dir=val_maskdir,\n",
        "        transform=val_transform\n",
        "    )\n",
        "\n",
        "    val_loader = DataLoader(\n",
        "        val_ds,\n",
        "        batch_size=batch_size,\n",
        "        num_workers=num_workers,\n",
        "        pin_memory=pin_memory,\n",
        "        shuffle=False\n",
        "    )\n",
        "\n",
        "    return train_loader, val_loader\n",
        "\n",
        "def check_accuracy(loader, model, device='cuda'):\n",
        "    num_correct = 0\n",
        "    num_pixels = 0\n",
        "    dice_score = 0\n",
        "    model.eval()\n",
        "\n",
        "    with torch.no_grad():\n",
        "        for x, y in loader:\n",
        "            x = x.to(device)\n",
        "            y = y.to(device).unsqueeze(1)\n",
        "            preds = torch.sigmoid(model(x))\n",
        "            preds = (preds > 0.5).float()\n",
        "            num_correct += (preds == y).sum()\n",
        "            num_pixels += torch.numel(preds)\n",
        "            dice_score += (2 * (preds * y).sum()) / (\n",
        "                (preds + y).sum() + 1e-8\n",
        "            )\n",
        "\n",
        "    print(\n",
        "        f'Got {num_correct}/{num_pixels} with acc {num_correct/num_pixels*100:.2f}'\n",
        "    )\n",
        "    print(f'Dice score: {dice_score/len(loader)}')\n",
        "    model.train()\n",
        "    return float(num_correct) / float(num_pixels) * 100\n",
        "\n",
        "def save_predictions_as_imgs(\n",
        "        loader, model, folder=WORKING_DIR+'saved_images', device='cuda'\n",
        "):\n",
        "    model.eval()\n",
        "    for idx, (x, y) in enumerate(loader):\n",
        "        x = x.to(device=device)\n",
        "        with torch.no_grad():\n",
        "            preds = torch.sigmoid(model(x))\n",
        "            preds = (preds > 0.5).float()\n",
        "        torchvision.utils.save_image(\n",
        "            preds, f'{folder}/pred_{idx}.png'\n",
        "        )\n",
        "        torchvision.utils.save_image(\n",
        "            y.unsqueeze(1), f'{folder}/truth_{idx}.png'\n",
        "        )"
      ],
      "metadata": {
        "execution": {
          "iopub.status.busy": "2023-12-16T21:35:26.759376Z",
          "iopub.execute_input": "2023-12-16T21:35:26.759801Z",
          "iopub.status.idle": "2023-12-16T21:35:26.773721Z",
          "shell.execute_reply.started": "2023-12-16T21:35:26.759766Z",
          "shell.execute_reply": "2023-12-16T21:35:26.772818Z"
        },
        "trusted": true,
        "id": "mHql5axV0Io8"
      },
      "execution_count": null,
      "outputs": []
    },
    {
      "cell_type": "code",
      "source": [
        "import torch\n",
        "import torch.nn as nn\n",
        "import torch.optim as optim\n",
        "import albumentations as A\n",
        "from albumentations.pytorch import ToTensorV2\n",
        "from tqdm import tqdm\n",
        "from PIL import Image, UnidentifiedImageError\n",
        "# from model import UNET\n",
        "# from utils import (\n",
        "#     load_checkpoint,\n",
        "#     save_checkpoint,\n",
        "#     get_loaders,\n",
        "#     check_accuracy,\n",
        "#     save_predictions_as_imgs,\n",
        "# )\n",
        "\n",
        "# Hyperparameters etc.\n",
        "LEARNING_RATE = 1e-4\n",
        "DEVICE = 'cuda' if torch.cuda.is_available() else 'cpu'\n",
        "BATCH_SIZE = 16\n",
        "NUM_EPOCHS = 5\n",
        "NUM_WORKERS = 2\n",
        "IMAGE_HEIGHT = 320\n",
        "IMAGE_WIDTH = 480\n",
        "PIN_MEMORY = True\n",
        "LOAD_MODEL = False\n",
        "TRAIN_IMG_DIR = '/content/drive/MyDrive/Kaggle/carvana/Working/train'\n",
        "TRAIN_MASK_DIR = '/content/drive/MyDrive/Kaggle/carvana/Working/train_masks'\n",
        "VAL_IMG_DIR = '/content/drive/MyDrive/Kaggle/carvana/Working/val'\n",
        "VAL_MASK_DIR = '/content/drive/MyDrive/Kaggle/carvana/Working/val_masks'\n",
        "\n",
        "def delete_corrupted_files(corrupted_files):\n",
        "    # corrupted_files should be a list of tuples where each tuple contains (image_path, mask_path)\n",
        "    for img_path, mask_path in corrupted_files:\n",
        "        if os.path.exists(img_path):\n",
        "            print(f\"Deleting corrupted image: {img_path}\")\n",
        "            os.remove(img_path)\n",
        "        if os.path.exists(mask_path):\n",
        "            print(f\"Deleting corrupted mask: {mask_path}\")\n",
        "            os.remove(mask_path)\n",
        "\n",
        "# Example usage:\n",
        "# Assuming you already have a list of corrupted image and mask paths\n",
        "corrupted_files = [\n",
        "    (\"/content/drive/MyDrive/Kaggle/carvana/Working/train/c8d52e0ba341_02.jpg\", \"/content/drive/MyDrive/Kaggle/carvana/Working/train_masks/c8d52e0ba341_02_mask.gif\"),\n",
        "    (\"/content/drive/MyDrive/Kaggle/carvana/Working/train/c8d52e0ba341_04.jpg\", \"/content/drive/MyDrive/Kaggle/carvana/Working/train_masks/c8d52e0ba341_04_mask.gif\"),\n",
        "    (\"/content/drive/MyDrive/Kaggle/carvana/Working/train/c8d52e0ba341_06.jpg\", \"/content/drive/MyDrive/Kaggle/carvana/Working/train_masks/c8d52e0ba341_06_mask.gif\"),\n",
        "    (\"/content/drive/MyDrive/Kaggle/carvana/Working/train/c8d52e0ba341_11.jpg\", \"/content/drive/MyDrive/Kaggle/carvana/Working/train_masks/c8d52e0ba341_11_mask.gif\"),\n",
        "    (\"/content/drive/MyDrive/Kaggle/carvana/Working/train/c8d52e0ba341_12.jpg\", \"/content/drive/MyDrive/Kaggle/carvana/Working/train_masks/c8d52e0ba341_12_mask.gif\"),\n",
        "    (\"/content/drive/MyDrive/Kaggle/carvana/Working/train/c8d52e0ba341_13.jpg\", \"/content/drive/MyDrive/Kaggle/carvana/Working/train_masks/c8d52e0ba341_13_mask.gif\"),\n",
        "    (\"/content/drive/MyDrive/Kaggle/carvana/Working/train/c8d52e0ba341_14.jpg\", \"/content/drive/MyDrive/Kaggle/carvana/Working/train_masks/c8d52e0ba341_14_mask.gif\"),\n",
        "    (\"/content/drive/MyDrive/Kaggle/carvana/Working/train/c8d52e0ba341_15.jpg\", \"/content/drive/MyDrive/Kaggle/carvana/Working/train_masks/c8d52e0ba341_15_mask.gif\")\n",
        "    # Add more corrupted file pairs\n",
        "]\n",
        "\n",
        "delete_corrupted_files(corrupted_files)\n",
        "\n",
        "def train_fn(loader, model, optimizer, loss_fn, scaler):\n",
        "    loop = tqdm(loader)\n",
        "\n",
        "    for batch_idx, (data, targets) in enumerate(loop):\n",
        "      data = data.to(device=DEVICE)\n",
        "      targets = targets.float().unsqueeze(1).to(device=DEVICE)\n",
        "\n",
        "      # forward\n",
        "      with torch.cuda.amp.autocast():\n",
        "          predictions = model(data)\n",
        "          loss = loss_fn(predictions, targets)\n",
        "\n",
        "      # backward\n",
        "      optimizer.zero_grad()\n",
        "      scaler.scale(loss).backward()\n",
        "      scaler.step(optimizer)\n",
        "      scaler.update()\n",
        "\n",
        "      # update tqdm loop\n",
        "      loop.set_postfix(loss=loss.item())\n",
        "\n",
        "def main():\n",
        "    train_transform = A.Compose(\n",
        "        [\n",
        "            A.Resize(height=IMAGE_HEIGHT, width=IMAGE_WIDTH),\n",
        "            A.Rotate(limit=35, p=1.0),\n",
        "            A.HorizontalFlip(p=0.5),\n",
        "            A.VerticalFlip(p=0.1),\n",
        "            A.Normalize(\n",
        "                mean=[0.0, 0.0, 0.0],\n",
        "                std=[1.0, 1.0, 1.0],\n",
        "                max_pixel_value=255.0,\n",
        "            ),\n",
        "            ToTensorV2(),\n",
        "        ]\n",
        "    )\n",
        "\n",
        "    val_transform = A.Compose(\n",
        "        [\n",
        "            A.Resize(height=IMAGE_HEIGHT, width=IMAGE_WIDTH),\n",
        "            A.Normalize(\n",
        "                mean=[0.0, 0.0, 0.0],\n",
        "                std=[1.0, 1.0, 1.0],\n",
        "                max_pixel_value=255.0,\n",
        "            ),\n",
        "            ToTensorV2(),\n",
        "        ]\n",
        "    )\n",
        "\n",
        "    model = UNET(in_channels=3, out_channels=1).to(DEVICE)\n",
        "    loss_fn = nn.BCEWithLogitsLoss()\n",
        "    optimizer = optim.Adam(model.parameters(), lr=LEARNING_RATE)\n",
        "\n",
        "    train_loader, val_loader = get_loaders(\n",
        "        TRAIN_IMG_DIR,\n",
        "        TRAIN_MASK_DIR,\n",
        "        VAL_IMG_DIR,\n",
        "        VAL_MASK_DIR,\n",
        "        BATCH_SIZE,\n",
        "        train_transform,\n",
        "        val_transform,\n",
        "        NUM_WORKERS,\n",
        "        PIN_MEMORY\n",
        "    )\n",
        "\n",
        "    if LOAD_MODEL:\n",
        "        load_checkpoint(torch.load('my_checkpoint.pth.tar'), model)\n",
        "        check_accuracy(val_loader, model, device=DEVICE)\n",
        "\n",
        "    scaler = torch.cuda.amp.GradScaler()\n",
        "\n",
        "    best_acc = 0.0  # Track the best accuracy\n",
        "\n",
        "    for epoch in range(NUM_EPOCHS):\n",
        "        train_fn(train_loader, model, optimizer, loss_fn, scaler)\n",
        "\n",
        "        # Evaluate model on validation set\n",
        "        acc = check_accuracy(val_loader, model, device=DEVICE)\n",
        "\n",
        "        # Save best model if accuracy improves\n",
        "        if acc > best_acc:\n",
        "            best_acc = acc\n",
        "            checkpoint = {\n",
        "                'state_dict': model.state_dict(),\n",
        "                'optimizer': optimizer.state_dict(),\n",
        "            }\n",
        "            torch.save(checkpoint, \"/content/drive/MyDrive/Kaggle/carvana/best_model.pth.tar\")\n",
        "\n",
        "        # Optionally save predictions every epoch\n",
        "        save_predictions_as_imgs(\n",
        "            val_loader, model, folder=WORKING_DIR + 'saved_images', device=DEVICE\n",
        "        )\n",
        "\n",
        "if __name__ == '__main__':\n",
        "    main()"
      ],
      "metadata": {
        "execution": {
          "iopub.status.busy": "2023-12-16T21:35:26.774952Z",
          "iopub.execute_input": "2023-12-16T21:35:26.775256Z",
          "iopub.status.idle": "2023-12-16T21:35:37.681413Z",
          "shell.execute_reply.started": "2023-12-16T21:35:26.775222Z",
          "shell.execute_reply": "2023-12-16T21:35:37.679507Z"
        },
        "trusted": true,
        "id": "-6gQCv2_0Io9",
        "colab": {
          "base_uri": "https://localhost:8080/"
        },
        "outputId": "262d3f42-442d-450b-e793-67d18434ca97"
      },
      "execution_count": null,
      "outputs": [
        {
          "output_type": "stream",
          "name": "stderr",
          "text": [
            "<ipython-input-14-9902d0f75a21>:127: FutureWarning: `torch.cuda.amp.GradScaler(args...)` is deprecated. Please use `torch.amp.GradScaler('cuda', args...)` instead.\n",
            "  scaler = torch.cuda.amp.GradScaler()\n",
            "  0%|          | 0/287 [00:00<?, ?it/s]<ipython-input-14-9902d0f75a21>:66: FutureWarning: `torch.cuda.amp.autocast(args...)` is deprecated. Please use `torch.amp.autocast('cuda', args...)` instead.\n",
            "  with torch.cuda.amp.autocast():\n",
            "100%|██████████| 287/287 [05:00<00:00,  1.05s/it, loss=0.137]\n"
          ]
        },
        {
          "output_type": "stream",
          "name": "stdout",
          "text": [
            "Got 73238308/74956800 with acc 97.71\n",
            "Dice score: 0.9491408467292786\n"
          ]
        },
        {
          "output_type": "stream",
          "name": "stderr",
          "text": [
            "100%|██████████| 287/287 [04:20<00:00,  1.10it/s, loss=0.0638]\n"
          ]
        },
        {
          "output_type": "stream",
          "name": "stdout",
          "text": [
            "Got 72790650/74956800 with acc 97.11\n",
            "Dice score: 0.9358701705932617\n"
          ]
        },
        {
          "output_type": "stream",
          "name": "stderr",
          "text": [
            "100%|██████████| 287/287 [04:21<00:00,  1.10it/s, loss=0.0379]\n"
          ]
        },
        {
          "output_type": "stream",
          "name": "stdout",
          "text": [
            "Got 72511926/74956800 with acc 96.74\n",
            "Dice score: 0.92940753698349\n"
          ]
        },
        {
          "output_type": "stream",
          "name": "stderr",
          "text": [
            "100%|██████████| 287/287 [04:18<00:00,  1.11it/s, loss=0.0292]\n"
          ]
        },
        {
          "output_type": "stream",
          "name": "stdout",
          "text": [
            "Got 73687845/74956800 with acc 98.31\n",
            "Dice score: 0.9620025753974915\n"
          ]
        },
        {
          "output_type": "stream",
          "name": "stderr",
          "text": [
            "100%|██████████| 287/287 [04:20<00:00,  1.10it/s, loss=0.0217]\n"
          ]
        },
        {
          "output_type": "stream",
          "name": "stdout",
          "text": [
            "Got 73668635/74956800 with acc 98.28\n",
            "Dice score: 0.9613279700279236\n"
          ]
        }
      ]
    }
  ]
}